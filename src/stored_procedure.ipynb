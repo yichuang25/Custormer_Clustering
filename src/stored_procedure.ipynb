{
 "cells": [
  {
   "cell_type": "code",
   "execution_count": 1,
   "metadata": {},
   "outputs": [],
   "source": [
    "import pandas as pd\n",
    "import mysql.connector"
   ]
  },
  {
   "cell_type": "markdown",
   "metadata": {},
   "source": [
    "## Connect to the Database"
   ]
  },
  {
   "cell_type": "code",
   "execution_count": 2,
   "metadata": {},
   "outputs": [
    {
     "data": {
      "text/plain": [
       "('8.3.0',)"
      ]
     },
     "execution_count": 2,
     "metadata": {},
     "output_type": "execute_result"
    }
   ],
   "source": [
    "connection = mysql.connector.connect(host = 'localhost', user = 'root', password = 'root', port = 3306, database='testdb')\n",
    "cursor = connection.cursor(buffered=True)\n",
    "cursor.execute(\"SELECT VERSION()\")\n",
    "cursor.fetchone()"
   ]
  },
  {
   "cell_type": "markdown",
   "metadata": {},
   "source": [
    "## Create Table Account Profile"
   ]
  },
  {
   "cell_type": "code",
   "execution_count": 3,
   "metadata": {},
   "outputs": [],
   "source": [
    "# create account_prifile table\n",
    "cursor.execute('DROP TABLE IF EXISTS account_profile;')\n",
    "cursor.execute('''\n",
    "               CREATE TABLE account_profile(\n",
    "                   customer_id BIGINT PRIMARY KEY,\n",
    "                   card_avg decimal(10,2),\n",
    "                   check_avg decimal(10,2),\n",
    "                   deposit_avg decimal(10,2),\n",
    "                   `loan payment_avg` decimal(10,2),\n",
    "                   transfer_avg decimal(10,2),\n",
    "                   withdrawal_avg decimal(10,2),\n",
    "                   card_count int,\n",
    "                   check_count int,\n",
    "                   deposit_count int,\n",
    "                   `loan payment_count` int,\n",
    "                   transfer_count int,\n",
    "                   wihdrawal_count int\n",
    "                   );\n",
    "               ''')"
   ]
  },
  {
   "cell_type": "markdown",
   "metadata": {},
   "source": [
    "## Create Stored Procedure"
   ]
  },
  {
   "cell_type": "code",
   "execution_count": 4,
   "metadata": {},
   "outputs": [],
   "source": [
    "# create stored procedure insert into account_profile if not exists or update if exists\n",
    "cursor.execute('DROP PROCEDURE IF EXISTS account_Profile;')\n",
    "cursor.execute('''\n",
    "CREATE PROCEDURE account_Profile()\n",
    "    BEGIN\n",
    "        INSERT INTO account_profile\n",
    "            select\n",
    "                customer_id,\n",
    "                ROUND(AVG(case when transaction_type = 'Card' then amount end), 2) as card_avg,\n",
    "                ROUND(AVG(case when transaction_type = 'Check' then amount end), 2) as check_avg,\n",
    "                ROUND(AVG(case when transaction_type = 'Deposit' then amount end), 2) as Deposit_avg,\n",
    "                ROUND(AVG(case when transaction_type = 'Loan Payment' then amount end), 2) as `Loan Payment_avg`,\n",
    "                ROUND(AVG(case when transaction_type = 'Transfer' then amount end), 2) as Transfer_avg,\n",
    "                ROUND(AVG(case when transaction_type = 'Withdrawal' then amount end), 2) as Withdrawal_avg,\n",
    "                SUM(case when transaction_type = 'Card' then 1 else 0 end)as card_count,\n",
    "                SUM(case when transaction_type = 'Check' then 1 else 0 end)as check_count,\n",
    "                SUM(case when transaction_type = 'Deposit' then 1 else 0 end)as Deposit_count,\n",
    "                SUM(case when transaction_type = 'Loan Payment' then 1 else 0 end)as `Loan Payment_count`,\n",
    "                SUM(case when transaction_type = 'Transfer' then 1 else 0 end)as Transfer_count,\n",
    "                SUM(case when transaction_type = 'Withdrawal' then 1 else 0 end)as Withdrawal_count\n",
    "            from transaction\n",
    "            group by customer_id\n",
    "            order by customer_id\n",
    "        ON DUPLICATE KEY UPDATE\n",
    "            card_avg = values(card_avg),\n",
    "            check_avg = values(check_avg),\n",
    "            deposit_avg = values(deposit_avg),\n",
    "            `loan payment_avg` = values(`loan payment_avg`),\n",
    "            transfer_avg = values(transfer_avg),\n",
    "            withdrawal_avg = values(withdrawal_avg),\n",
    "            card_count = values(card_count),\n",
    "            check_count = values(check_count),\n",
    "            deposit_count = values(deposit_count),\n",
    "            `loan payment_count` = values(`loan payment_count`),\n",
    "            transfer_count = values(transfer_count),\n",
    "            wihdrawal_count = values(wihdrawal_count);\n",
    "    END;\n",
    "''')"
   ]
  },
  {
   "cell_type": "code",
   "execution_count": 5,
   "metadata": {},
   "outputs": [],
   "source": [
    "# Test the stored procedure\n",
    "cursor.execute('CALL account_profile();')\n",
    "connection.commit()\n"
   ]
  },
  {
   "cell_type": "code",
   "execution_count": 6,
   "metadata": {},
   "outputs": [
    {
     "data": {
      "text/html": [
       "<div>\n",
       "<style scoped>\n",
       "    .dataframe tbody tr th:only-of-type {\n",
       "        vertical-align: middle;\n",
       "    }\n",
       "\n",
       "    .dataframe tbody tr th {\n",
       "        vertical-align: top;\n",
       "    }\n",
       "\n",
       "    .dataframe thead th {\n",
       "        text-align: right;\n",
       "    }\n",
       "</style>\n",
       "<table border=\"1\" class=\"dataframe\">\n",
       "  <thead>\n",
       "    <tr style=\"text-align: right;\">\n",
       "      <th></th>\n",
       "      <th>customer_id</th>\n",
       "      <th>card_avg</th>\n",
       "      <th>check_avg</th>\n",
       "      <th>deposit_avg</th>\n",
       "      <th>loan payment_avg</th>\n",
       "      <th>transfer_avg</th>\n",
       "      <th>withdrawal_avg</th>\n",
       "      <th>card_count</th>\n",
       "      <th>check_count</th>\n",
       "      <th>deposit_count</th>\n",
       "      <th>loan payment_count</th>\n",
       "      <th>transfer_count</th>\n",
       "      <th>wihdrawal_count</th>\n",
       "    </tr>\n",
       "  </thead>\n",
       "  <tbody>\n",
       "    <tr>\n",
       "      <th>0</th>\n",
       "      <td>1000</td>\n",
       "      <td>26.47</td>\n",
       "      <td>4378.71</td>\n",
       "      <td>28869.12</td>\n",
       "      <td>12108.41</td>\n",
       "      <td>1524.85</td>\n",
       "      <td>694.78</td>\n",
       "      <td>1</td>\n",
       "      <td>2</td>\n",
       "      <td>2</td>\n",
       "      <td>2</td>\n",
       "      <td>1</td>\n",
       "      <td>3</td>\n",
       "    </tr>\n",
       "    <tr>\n",
       "      <th>1</th>\n",
       "      <td>1001</td>\n",
       "      <td>51.53</td>\n",
       "      <td>4237.00</td>\n",
       "      <td>None</td>\n",
       "      <td>28348.91</td>\n",
       "      <td>2231.76</td>\n",
       "      <td>540.01</td>\n",
       "      <td>4</td>\n",
       "      <td>2</td>\n",
       "      <td>0</td>\n",
       "      <td>3</td>\n",
       "      <td>4</td>\n",
       "      <td>4</td>\n",
       "    </tr>\n",
       "    <tr>\n",
       "      <th>2</th>\n",
       "      <td>1002</td>\n",
       "      <td>None</td>\n",
       "      <td>5117.56</td>\n",
       "      <td>27592.44</td>\n",
       "      <td>22833.47</td>\n",
       "      <td>1642.22</td>\n",
       "      <td>692.91</td>\n",
       "      <td>0</td>\n",
       "      <td>1</td>\n",
       "      <td>3</td>\n",
       "      <td>3</td>\n",
       "      <td>2</td>\n",
       "      <td>1</td>\n",
       "    </tr>\n",
       "    <tr>\n",
       "      <th>3</th>\n",
       "      <td>1003</td>\n",
       "      <td>None</td>\n",
       "      <td>5474.51</td>\n",
       "      <td>None</td>\n",
       "      <td>None</td>\n",
       "      <td>1554.03</td>\n",
       "      <td>1067.27</td>\n",
       "      <td>0</td>\n",
       "      <td>2</td>\n",
       "      <td>0</td>\n",
       "      <td>0</td>\n",
       "      <td>1</td>\n",
       "      <td>1</td>\n",
       "    </tr>\n",
       "    <tr>\n",
       "      <th>4</th>\n",
       "      <td>1004</td>\n",
       "      <td>38.21</td>\n",
       "      <td>None</td>\n",
       "      <td>23236.59</td>\n",
       "      <td>14425.75</td>\n",
       "      <td>2031.13</td>\n",
       "      <td>1032.39</td>\n",
       "      <td>6</td>\n",
       "      <td>0</td>\n",
       "      <td>3</td>\n",
       "      <td>3</td>\n",
       "      <td>1</td>\n",
       "      <td>2</td>\n",
       "    </tr>\n",
       "  </tbody>\n",
       "</table>\n",
       "</div>"
      ],
      "text/plain": [
       "   customer_id card_avg check_avg deposit_avg loan payment_avg transfer_avg  \\\n",
       "0         1000    26.47   4378.71    28869.12         12108.41      1524.85   \n",
       "1         1001    51.53   4237.00        None         28348.91      2231.76   \n",
       "2         1002     None   5117.56    27592.44         22833.47      1642.22   \n",
       "3         1003     None   5474.51        None             None      1554.03   \n",
       "4         1004    38.21      None    23236.59         14425.75      2031.13   \n",
       "\n",
       "  withdrawal_avg  card_count  check_count  deposit_count  loan payment_count  \\\n",
       "0         694.78           1            2              2                   2   \n",
       "1         540.01           4            2              0                   3   \n",
       "2         692.91           0            1              3                   3   \n",
       "3        1067.27           0            2              0                   0   \n",
       "4        1032.39           6            0              3                   3   \n",
       "\n",
       "   transfer_count  wihdrawal_count  \n",
       "0               1                3  \n",
       "1               4                4  \n",
       "2               2                1  \n",
       "3               1                1  \n",
       "4               1                2  "
      ]
     },
     "execution_count": 6,
     "metadata": {},
     "output_type": "execute_result"
    }
   ],
   "source": [
    "# Top 5 rows of account_profile\n",
    "cursor.execute('select * from account_profile order by customer_id limit 5;')\n",
    "profile = pd.DataFrame(cursor.fetchall(), columns = [x[0] for x in cursor.description])\n",
    "profile"
   ]
  },
  {
   "cell_type": "code",
   "execution_count": 7,
   "metadata": {},
   "outputs": [
    {
     "data": {
      "text/html": [
       "<div>\n",
       "<style scoped>\n",
       "    .dataframe tbody tr th:only-of-type {\n",
       "        vertical-align: middle;\n",
       "    }\n",
       "\n",
       "    .dataframe tbody tr th {\n",
       "        vertical-align: top;\n",
       "    }\n",
       "\n",
       "    .dataframe thead th {\n",
       "        text-align: right;\n",
       "    }\n",
       "</style>\n",
       "<table border=\"1\" class=\"dataframe\">\n",
       "  <thead>\n",
       "    <tr style=\"text-align: right;\">\n",
       "      <th></th>\n",
       "      <th>customer_id</th>\n",
       "      <th>card_avg</th>\n",
       "      <th>check_avg</th>\n",
       "      <th>deposit_avg</th>\n",
       "      <th>loan payment_avg</th>\n",
       "      <th>transfer_avg</th>\n",
       "      <th>withdrawal_avg</th>\n",
       "      <th>card_count</th>\n",
       "      <th>check_count</th>\n",
       "      <th>deposit_count</th>\n",
       "      <th>loan payment_count</th>\n",
       "      <th>transfer_count</th>\n",
       "      <th>wihdrawal_count</th>\n",
       "    </tr>\n",
       "  </thead>\n",
       "  <tbody>\n",
       "    <tr>\n",
       "      <th>0</th>\n",
       "      <td>10999</td>\n",
       "      <td>37.89</td>\n",
       "      <td>11104.57</td>\n",
       "      <td>48534.17</td>\n",
       "      <td>18573.65</td>\n",
       "      <td>3316.20</td>\n",
       "      <td>757.11</td>\n",
       "      <td>2</td>\n",
       "      <td>2</td>\n",
       "      <td>2</td>\n",
       "      <td>2</td>\n",
       "      <td>1</td>\n",
       "      <td>2</td>\n",
       "    </tr>\n",
       "    <tr>\n",
       "      <th>1</th>\n",
       "      <td>10998</td>\n",
       "      <td>50.77</td>\n",
       "      <td>5206.95</td>\n",
       "      <td>27874.57</td>\n",
       "      <td>23206.13</td>\n",
       "      <td>3029.61</td>\n",
       "      <td>None</td>\n",
       "      <td>3</td>\n",
       "      <td>1</td>\n",
       "      <td>2</td>\n",
       "      <td>1</td>\n",
       "      <td>1</td>\n",
       "      <td>0</td>\n",
       "    </tr>\n",
       "    <tr>\n",
       "      <th>2</th>\n",
       "      <td>10997</td>\n",
       "      <td>84.71</td>\n",
       "      <td>5107.67</td>\n",
       "      <td>40858.35</td>\n",
       "      <td>25356.89</td>\n",
       "      <td>1284.74</td>\n",
       "      <td>None</td>\n",
       "      <td>1</td>\n",
       "      <td>1</td>\n",
       "      <td>5</td>\n",
       "      <td>1</td>\n",
       "      <td>4</td>\n",
       "      <td>0</td>\n",
       "    </tr>\n",
       "    <tr>\n",
       "      <th>3</th>\n",
       "      <td>10996</td>\n",
       "      <td>105.45</td>\n",
       "      <td>None</td>\n",
       "      <td>46180.04</td>\n",
       "      <td>29398.99</td>\n",
       "      <td>1804.69</td>\n",
       "      <td>407.88</td>\n",
       "      <td>2</td>\n",
       "      <td>0</td>\n",
       "      <td>1</td>\n",
       "      <td>3</td>\n",
       "      <td>1</td>\n",
       "      <td>1</td>\n",
       "    </tr>\n",
       "    <tr>\n",
       "      <th>4</th>\n",
       "      <td>10995</td>\n",
       "      <td>33.20</td>\n",
       "      <td>None</td>\n",
       "      <td>None</td>\n",
       "      <td>14913.75</td>\n",
       "      <td>2468.82</td>\n",
       "      <td>587.00</td>\n",
       "      <td>1</td>\n",
       "      <td>0</td>\n",
       "      <td>0</td>\n",
       "      <td>1</td>\n",
       "      <td>3</td>\n",
       "      <td>3</td>\n",
       "    </tr>\n",
       "  </tbody>\n",
       "</table>\n",
       "</div>"
      ],
      "text/plain": [
       "   customer_id card_avg check_avg deposit_avg loan payment_avg transfer_avg  \\\n",
       "0        10999    37.89  11104.57    48534.17         18573.65      3316.20   \n",
       "1        10998    50.77   5206.95    27874.57         23206.13      3029.61   \n",
       "2        10997    84.71   5107.67    40858.35         25356.89      1284.74   \n",
       "3        10996   105.45      None    46180.04         29398.99      1804.69   \n",
       "4        10995    33.20      None        None         14913.75      2468.82   \n",
       "\n",
       "  withdrawal_avg  card_count  check_count  deposit_count  loan payment_count  \\\n",
       "0         757.11           2            2              2                   2   \n",
       "1           None           3            1              2                   1   \n",
       "2           None           1            1              5                   1   \n",
       "3         407.88           2            0              1                   3   \n",
       "4         587.00           1            0              0                   1   \n",
       "\n",
       "   transfer_count  wihdrawal_count  \n",
       "0               1                2  \n",
       "1               1                0  \n",
       "2               4                0  \n",
       "3               1                1  \n",
       "4               3                3  "
      ]
     },
     "execution_count": 7,
     "metadata": {},
     "output_type": "execute_result"
    }
   ],
   "source": [
    "# Bottom 5 rows of account_profile\n",
    "cursor.execute('select * from account_profile order by customer_id desc limit 5;')\n",
    "profile = pd.DataFrame(cursor.fetchall(), columns = [x[0] for x in cursor.description])\n",
    "profile"
   ]
  },
  {
   "cell_type": "markdown",
   "metadata": {},
   "source": [
    "## Create Trigger"
   ]
  },
  {
   "cell_type": "code",
   "execution_count": 8,
   "metadata": {},
   "outputs": [],
   "source": [
    "# after insert trigger to update account_profile table\n",
    "cursor.execute('DROP TRIGGER IF EXISTS account_profile_update;')\n",
    "# grant trigger permission\n",
    "cursor.execute('''\n",
    "    CREATE TRIGGER account_profile_update\n",
    "    AFTER INSERT ON transaction\n",
    "    FOR EACH ROW\n",
    "    BEGIN\n",
    "        CALL account_profile();\n",
    "    END;\n",
    "''')"
   ]
  },
  {
   "cell_type": "code",
   "execution_count": 9,
   "metadata": {},
   "outputs": [
    {
     "data": {
      "text/plain": [
       "[('account_profile_update',\n",
       "  'INSERT',\n",
       "  'transaction',\n",
       "  'BEGIN\\n        CALL account_profile();\\n    END',\n",
       "  'AFTER',\n",
       "  datetime.datetime(2024, 4, 8, 20, 45, 1, 590000),\n",
       "  {'ERROR_FOR_DIVISION_BY_ZERO',\n",
       "   'NO_ENGINE_SUBSTITUTION',\n",
       "   'NO_ZERO_DATE',\n",
       "   'NO_ZERO_IN_DATE',\n",
       "   'ONLY_FULL_GROUP_BY',\n",
       "   'STRICT_TRANS_TABLES'},\n",
       "  'root@%',\n",
       "  'utf8mb4',\n",
       "  'utf8mb4_0900_ai_ci',\n",
       "  'utf8mb4_0900_ai_ci')]"
      ]
     },
     "execution_count": 9,
     "metadata": {},
     "output_type": "execute_result"
    }
   ],
   "source": [
    "cursor.execute('show triggers;')\n",
    "cursor.fetchall()"
   ]
  },
  {
   "cell_type": "markdown",
   "metadata": {},
   "source": [
    "## Test the Trigger"
   ]
  },
  {
   "cell_type": "code",
   "execution_count": 9,
   "metadata": {},
   "outputs": [
    {
     "data": {
      "text/html": [
       "<div>\n",
       "<style scoped>\n",
       "    .dataframe tbody tr th:only-of-type {\n",
       "        vertical-align: middle;\n",
       "    }\n",
       "\n",
       "    .dataframe tbody tr th {\n",
       "        vertical-align: top;\n",
       "    }\n",
       "\n",
       "    .dataframe thead th {\n",
       "        text-align: right;\n",
       "    }\n",
       "</style>\n",
       "<table border=\"1\" class=\"dataframe\">\n",
       "  <thead>\n",
       "    <tr style=\"text-align: right;\">\n",
       "      <th></th>\n",
       "      <th>customer_id</th>\n",
       "      <th>card_avg</th>\n",
       "      <th>check_avg</th>\n",
       "      <th>deposit_avg</th>\n",
       "      <th>loan payment_avg</th>\n",
       "      <th>transfer_avg</th>\n",
       "      <th>withdrawal_avg</th>\n",
       "      <th>card_count</th>\n",
       "      <th>check_count</th>\n",
       "      <th>deposit_count</th>\n",
       "      <th>loan payment_count</th>\n",
       "      <th>transfer_count</th>\n",
       "      <th>wihdrawal_count</th>\n",
       "    </tr>\n",
       "  </thead>\n",
       "  <tbody>\n",
       "    <tr>\n",
       "      <th>0</th>\n",
       "      <td>1000</td>\n",
       "      <td>29.70</td>\n",
       "      <td>3323.04</td>\n",
       "      <td>53392.84</td>\n",
       "      <td>22722.13</td>\n",
       "      <td>None</td>\n",
       "      <td>793.09</td>\n",
       "      <td>1</td>\n",
       "      <td>2</td>\n",
       "      <td>1</td>\n",
       "      <td>1</td>\n",
       "      <td>0</td>\n",
       "      <td>2</td>\n",
       "    </tr>\n",
       "  </tbody>\n",
       "</table>\n",
       "</div>"
      ],
      "text/plain": [
       "   customer_id card_avg check_avg deposit_avg loan payment_avg transfer_avg  \\\n",
       "0         1000    29.70   3323.04    53392.84         22722.13         None   \n",
       "\n",
       "  withdrawal_avg  card_count  check_count  deposit_count  loan payment_count  \\\n",
       "0         793.09           1            2              1                   1   \n",
       "\n",
       "   transfer_count  wihdrawal_count  \n",
       "0               0                2  "
      ]
     },
     "execution_count": 9,
     "metadata": {},
     "output_type": "execute_result"
    }
   ],
   "source": [
    "# unit test\n",
    "# before insert\n",
    "cursor.execute('select * from account_profile where customer_id = 1000;')\n",
    "profile = pd.DataFrame(cursor.fetchall(), columns = [i[0] for i in cursor.description])\n",
    "profile"
   ]
  },
  {
   "cell_type": "code",
   "execution_count": 10,
   "metadata": {},
   "outputs": [
    {
     "data": {
      "text/plain": [
       "[(3758, 1000, '2023-12-18 11:04:29', 553.4760387019085, 'Withdrawal'),\n",
       " (13622, 1000, '2023-12-16 17:23:23', 53392.83933905362, 'Deposit'),\n",
       " (28977, 1000, '2023-11-03 09:44:31', 3368.5231277126986, 'Check'),\n",
       " (45694, 1000, '2023-12-01 15:08:44', 3277.5548936338773, 'Check'),\n",
       " (62684, 1000, '2023-12-19 12:57:10', 29.70360265633457, 'Card'),\n",
       " (66420, 1000, '2023-09-09 12:10:16', 1032.705443722297, 'Withdrawal'),\n",
       " (66572, 1000, '2023-10-17 13:30:17', 22722.128700152007, 'Loan Payment')]"
      ]
     },
     "execution_count": 10,
     "metadata": {},
     "output_type": "execute_result"
    }
   ],
   "source": [
    "cursor.execute('select * from transaction where customer_id = 1000;')\n",
    "cursor.fetchall()"
   ]
  },
  {
   "cell_type": "code",
   "execution_count": 11,
   "metadata": {},
   "outputs": [
    {
     "data": {
      "text/plain": [
       "[(3758, 1000, '2023-12-18 11:04:29', 553.4760387019085, 'Withdrawal'),\n",
       " (13622, 1000, '2023-12-16 17:23:23', 53392.83933905362, 'Deposit'),\n",
       " (28977, 1000, '2023-11-03 09:44:31', 3368.5231277126986, 'Check'),\n",
       " (45694, 1000, '2023-12-01 15:08:44', 3277.5548936338773, 'Check'),\n",
       " (62684, 1000, '2023-12-19 12:57:10', 29.70360265633457, 'Card'),\n",
       " (66420, 1000, '2023-09-09 12:10:16', 1032.705443722297, 'Withdrawal'),\n",
       " (66572, 1000, '2023-10-17 13:30:17', 22722.128700152007, 'Loan Payment'),\n",
       " (100000, 1000, '2024-01-01 00:00:00', 100.0, 'Card')]"
      ]
     },
     "execution_count": 11,
     "metadata": {},
     "output_type": "execute_result"
    }
   ],
   "source": [
    "# insert new record for customer_id = 1000\n",
    "cursor.execute(f'''\n",
    "    INSERT INTO transaction\n",
    "    VALUES (100000 ,1000, '2024-01-01 00:00:00', 100.00, 'Card');\n",
    "''')\n",
    "cursor.execute('select * from transaction where customer_id = 1000;')\n",
    "cursor.fetchall()"
   ]
  },
  {
   "cell_type": "code",
   "execution_count": 12,
   "metadata": {},
   "outputs": [
    {
     "data": {
      "text/html": [
       "<div>\n",
       "<style scoped>\n",
       "    .dataframe tbody tr th:only-of-type {\n",
       "        vertical-align: middle;\n",
       "    }\n",
       "\n",
       "    .dataframe tbody tr th {\n",
       "        vertical-align: top;\n",
       "    }\n",
       "\n",
       "    .dataframe thead th {\n",
       "        text-align: right;\n",
       "    }\n",
       "</style>\n",
       "<table border=\"1\" class=\"dataframe\">\n",
       "  <thead>\n",
       "    <tr style=\"text-align: right;\">\n",
       "      <th></th>\n",
       "      <th>customer_id</th>\n",
       "      <th>card_avg</th>\n",
       "      <th>check_avg</th>\n",
       "      <th>deposit_avg</th>\n",
       "      <th>loan payment_avg</th>\n",
       "      <th>transfer_avg</th>\n",
       "      <th>withdrawal_avg</th>\n",
       "      <th>card_count</th>\n",
       "      <th>check_count</th>\n",
       "      <th>deposit_count</th>\n",
       "      <th>loan payment_count</th>\n",
       "      <th>transfer_count</th>\n",
       "      <th>wihdrawal_count</th>\n",
       "    </tr>\n",
       "  </thead>\n",
       "  <tbody>\n",
       "    <tr>\n",
       "      <th>0</th>\n",
       "      <td>1000</td>\n",
       "      <td>64.85</td>\n",
       "      <td>3323.04</td>\n",
       "      <td>53392.84</td>\n",
       "      <td>22722.13</td>\n",
       "      <td>None</td>\n",
       "      <td>793.09</td>\n",
       "      <td>2</td>\n",
       "      <td>2</td>\n",
       "      <td>1</td>\n",
       "      <td>1</td>\n",
       "      <td>0</td>\n",
       "      <td>2</td>\n",
       "    </tr>\n",
       "  </tbody>\n",
       "</table>\n",
       "</div>"
      ],
      "text/plain": [
       "   customer_id card_avg check_avg deposit_avg loan payment_avg transfer_avg  \\\n",
       "0         1000    64.85   3323.04    53392.84         22722.13         None   \n",
       "\n",
       "  withdrawal_avg  card_count  check_count  deposit_count  loan payment_count  \\\n",
       "0         793.09           2            2              1                   1   \n",
       "\n",
       "   transfer_count  wihdrawal_count  \n",
       "0               0                2  "
      ]
     },
     "execution_count": 12,
     "metadata": {},
     "output_type": "execute_result"
    }
   ],
   "source": [
    "\n",
    "cursor.execute('select * from account_profile where customer_id = 1000;')\n",
    "pd.DataFrame(cursor.fetchall(), columns = [i[0] for i in cursor.description])"
   ]
  },
  {
   "cell_type": "code",
   "execution_count": 13,
   "metadata": {},
   "outputs": [
    {
     "data": {
      "text/plain": [
       "[(3758, 1000, '2023-12-18 11:04:29', 553.4760387019085, 'Withdrawal'),\n",
       " (13622, 1000, '2023-12-16 17:23:23', 53392.83933905362, 'Deposit'),\n",
       " (28977, 1000, '2023-11-03 09:44:31', 3368.5231277126986, 'Check'),\n",
       " (45694, 1000, '2023-12-01 15:08:44', 3277.5548936338773, 'Check'),\n",
       " (62684, 1000, '2023-12-19 12:57:10', 29.70360265633457, 'Card'),\n",
       " (66420, 1000, '2023-09-09 12:10:16', 1032.705443722297, 'Withdrawal'),\n",
       " (66572, 1000, '2023-10-17 13:30:17', 22722.128700152007, 'Loan Payment')]"
      ]
     },
     "execution_count": 13,
     "metadata": {},
     "output_type": "execute_result"
    }
   ],
   "source": [
    "# remove the test data\n",
    "cursor.execute('delete from transaction where customer_id = 1000 and timestamp = \"2024-01-01 00:00:00\";')\n",
    "cursor.execute('select * from transaction where customer_id = 1000;')\n",
    "cursor.fetchall()"
   ]
  },
  {
   "cell_type": "code",
   "execution_count": 14,
   "metadata": {},
   "outputs": [
    {
     "data": {
      "text/html": [
       "<div>\n",
       "<style scoped>\n",
       "    .dataframe tbody tr th:only-of-type {\n",
       "        vertical-align: middle;\n",
       "    }\n",
       "\n",
       "    .dataframe tbody tr th {\n",
       "        vertical-align: top;\n",
       "    }\n",
       "\n",
       "    .dataframe thead th {\n",
       "        text-align: right;\n",
       "    }\n",
       "</style>\n",
       "<table border=\"1\" class=\"dataframe\">\n",
       "  <thead>\n",
       "    <tr style=\"text-align: right;\">\n",
       "      <th></th>\n",
       "      <th>customer_id</th>\n",
       "      <th>card_avg</th>\n",
       "      <th>check_avg</th>\n",
       "      <th>deposit_avg</th>\n",
       "      <th>loan payment_avg</th>\n",
       "      <th>transfer_avg</th>\n",
       "      <th>withdrawal_avg</th>\n",
       "      <th>card_count</th>\n",
       "      <th>check_count</th>\n",
       "      <th>deposit_count</th>\n",
       "      <th>loan payment_count</th>\n",
       "      <th>transfer_count</th>\n",
       "      <th>wihdrawal_count</th>\n",
       "    </tr>\n",
       "  </thead>\n",
       "  <tbody>\n",
       "    <tr>\n",
       "      <th>0</th>\n",
       "      <td>1000</td>\n",
       "      <td>29.70</td>\n",
       "      <td>3323.04</td>\n",
       "      <td>53392.84</td>\n",
       "      <td>22722.13</td>\n",
       "      <td>None</td>\n",
       "      <td>793.09</td>\n",
       "      <td>1</td>\n",
       "      <td>2</td>\n",
       "      <td>1</td>\n",
       "      <td>1</td>\n",
       "      <td>0</td>\n",
       "      <td>2</td>\n",
       "    </tr>\n",
       "  </tbody>\n",
       "</table>\n",
       "</div>"
      ],
      "text/plain": [
       "   customer_id card_avg check_avg deposit_avg loan payment_avg transfer_avg  \\\n",
       "0         1000    29.70   3323.04    53392.84         22722.13         None   \n",
       "\n",
       "  withdrawal_avg  card_count  check_count  deposit_count  loan payment_count  \\\n",
       "0         793.09           1            2              1                   1   \n",
       "\n",
       "   transfer_count  wihdrawal_count  \n",
       "0               0                2  "
      ]
     },
     "execution_count": 14,
     "metadata": {},
     "output_type": "execute_result"
    }
   ],
   "source": [
    "cursor.execute('CALL account_profile();')\n",
    "cursor.execute('select * from account_profile where customer_id = 1000;')\n",
    "profile = pd.DataFrame(cursor.fetchall(), columns = [i[0] for i in cursor.description])\n",
    "profile"
   ]
  },
  {
   "cell_type": "markdown",
   "metadata": {},
   "source": [
    "## Close the Connection"
   ]
  },
  {
   "cell_type": "code",
   "execution_count": 10,
   "metadata": {},
   "outputs": [],
   "source": [
    "connection.commit()\n",
    "cursor.close()\n",
    "connection.close()"
   ]
  }
 ],
 "metadata": {
  "kernelspec": {
   "display_name": "playground",
   "language": "python",
   "name": "python3"
  },
  "language_info": {
   "codemirror_mode": {
    "name": "ipython",
    "version": 3
   },
   "file_extension": ".py",
   "mimetype": "text/x-python",
   "name": "python",
   "nbconvert_exporter": "python",
   "pygments_lexer": "ipython3",
   "version": "3.10.0"
  }
 },
 "nbformat": 4,
 "nbformat_minor": 2
}
